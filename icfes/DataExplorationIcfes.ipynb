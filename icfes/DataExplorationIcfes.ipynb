{
 "cells": [
  {
   "cell_type": "markdown",
   "id": "03532c24",
   "metadata": {},
   "source": [
    "# Data Exploration"
   ]
  },
  {
   "cell_type": "markdown",
   "id": "bf715247",
   "metadata": {},
   "source": [
    "Hey! During this first step, please, take a look at the data set and just explore it, find the types of each column and try to find interesting things. Don't worry about data cleaning. Just exploration for now.  \n",
    "You can answer the following questions:\n",
    "- How many columns there are\n",
    "- The type of each column\n",
    "- The different values that a column can take\n",
    "- Which do you think are the most important columns? If we are looking at the overall score.\n",
    "\n",
    "Go wild! (Remember, so far, only exploration).\n"
   ]
  },
  {
   "cell_type": "code",
   "execution_count": 5,
   "id": "be2bde8d",
   "metadata": {},
   "outputs": [],
   "source": [
    "import pandas as pd\n",
    "import seaborn as sns\n",
    "import matplotlib.pyplot as plt\n"
   ]
  },
  {
   "cell_type": "code",
   "execution_count": 6,
   "id": "46376140",
   "metadata": {},
   "outputs": [
    {
     "name": "stderr",
     "output_type": "stream",
     "text": [
      "/tmp/ipykernel_1017/1341599079.py:1: DtypeWarning: Columns (76,78) have mixed types. Specify dtype option on import or set low_memory=False.\n",
      "  df = pd.read_csv('Saber_11__2019-2.csv')\n"
     ]
    },
    {
     "data": {
      "text/html": [
       "<div>\n",
       "<style scoped>\n",
       "    .dataframe tbody tr th:only-of-type {\n",
       "        vertical-align: middle;\n",
       "    }\n",
       "\n",
       "    .dataframe tbody tr th {\n",
       "        vertical-align: top;\n",
       "    }\n",
       "\n",
       "    .dataframe thead th {\n",
       "        text-align: right;\n",
       "    }\n",
       "</style>\n",
       "<table border=\"1\" class=\"dataframe\">\n",
       "  <thead>\n",
       "    <tr style=\"text-align: right;\">\n",
       "      <th></th>\n",
       "      <th>ESTU_TIPODOCUMENTO</th>\n",
       "      <th>ESTU_NACIONALIDAD</th>\n",
       "      <th>ESTU_GENERO</th>\n",
       "      <th>ESTU_FECHANACIMIENTO</th>\n",
       "      <th>PERIODO</th>\n",
       "      <th>ESTU_CONSECUTIVO</th>\n",
       "      <th>ESTU_ESTUDIANTE</th>\n",
       "      <th>ESTU_TIENEETNIA</th>\n",
       "      <th>ESTU_PAIS_RESIDE</th>\n",
       "      <th>ESTU_ETNIA</th>\n",
       "      <th>...</th>\n",
       "      <th>PUNT_INGLES</th>\n",
       "      <th>PERCENTIL_INGLES</th>\n",
       "      <th>DESEMP_INGLES</th>\n",
       "      <th>PUNT_GLOBAL</th>\n",
       "      <th>PERCENTIL_GLOBAL</th>\n",
       "      <th>ESTU_INSE_INDIVIDUAL</th>\n",
       "      <th>ESTU_NSE_INDIVIDUAL</th>\n",
       "      <th>ESTU_NSE_ESTABLECIMIENTO</th>\n",
       "      <th>ESTU_ESTADOINVESTIGACION</th>\n",
       "      <th>ESTU_GENERACION-E</th>\n",
       "    </tr>\n",
       "  </thead>\n",
       "  <tbody>\n",
       "    <tr>\n",
       "      <th>0</th>\n",
       "      <td>TI</td>\n",
       "      <td>COLOMBIA</td>\n",
       "      <td>M</td>\n",
       "      <td>02/18/2002 12:00:00 AM</td>\n",
       "      <td>20194</td>\n",
       "      <td>SB11201940031558</td>\n",
       "      <td>ESTUDIANTE</td>\n",
       "      <td>No</td>\n",
       "      <td>COLOMBIA</td>\n",
       "      <td>-</td>\n",
       "      <td>...</td>\n",
       "      <td>54.0</td>\n",
       "      <td>67</td>\n",
       "      <td>A1</td>\n",
       "      <td>208</td>\n",
       "      <td>25</td>\n",
       "      <td>50.9421557404314</td>\n",
       "      <td>2.0</td>\n",
       "      <td>2.0</td>\n",
       "      <td>PUBLICAR</td>\n",
       "      <td>NO</td>\n",
       "    </tr>\n",
       "    <tr>\n",
       "      <th>1</th>\n",
       "      <td>TI</td>\n",
       "      <td>COLOMBIA</td>\n",
       "      <td>M</td>\n",
       "      <td>06/28/2003 12:00:00 AM</td>\n",
       "      <td>20194</td>\n",
       "      <td>SB11201940303339</td>\n",
       "      <td>ESTUDIANTE</td>\n",
       "      <td>No</td>\n",
       "      <td>COLOMBIA</td>\n",
       "      <td>-</td>\n",
       "      <td>...</td>\n",
       "      <td>63.0</td>\n",
       "      <td>88</td>\n",
       "      <td>A2</td>\n",
       "      <td>299</td>\n",
       "      <td>83</td>\n",
       "      <td>59.767864431576</td>\n",
       "      <td>3.0</td>\n",
       "      <td>4.0</td>\n",
       "      <td>PUBLICAR</td>\n",
       "      <td>NO</td>\n",
       "    </tr>\n",
       "    <tr>\n",
       "      <th>2</th>\n",
       "      <td>TI</td>\n",
       "      <td>COLOMBIA</td>\n",
       "      <td>M</td>\n",
       "      <td>06/02/2001 12:00:00 AM</td>\n",
       "      <td>20194</td>\n",
       "      <td>SB11201940255017</td>\n",
       "      <td>ESTUDIANTE</td>\n",
       "      <td>No</td>\n",
       "      <td>COLOMBIA</td>\n",
       "      <td>-</td>\n",
       "      <td>...</td>\n",
       "      <td>64.0</td>\n",
       "      <td>89</td>\n",
       "      <td>A2</td>\n",
       "      <td>299</td>\n",
       "      <td>84</td>\n",
       "      <td>50.7642383644749</td>\n",
       "      <td>2.0</td>\n",
       "      <td>3.0</td>\n",
       "      <td>PUBLICAR</td>\n",
       "      <td>GENERACION E - GRATUIDAD</td>\n",
       "    </tr>\n",
       "    <tr>\n",
       "      <th>3</th>\n",
       "      <td>TI</td>\n",
       "      <td>COLOMBIA</td>\n",
       "      <td>M</td>\n",
       "      <td>04/26/2002 12:00:00 AM</td>\n",
       "      <td>20194</td>\n",
       "      <td>SB11201940154799</td>\n",
       "      <td>ESTUDIANTE</td>\n",
       "      <td>Si</td>\n",
       "      <td>COLOMBIA</td>\n",
       "      <td>Ninguno</td>\n",
       "      <td>...</td>\n",
       "      <td>53.0</td>\n",
       "      <td>67</td>\n",
       "      <td>A1</td>\n",
       "      <td>309</td>\n",
       "      <td>88</td>\n",
       "      <td>45.7791353123516</td>\n",
       "      <td>2.0</td>\n",
       "      <td>3.0</td>\n",
       "      <td>PUBLICAR</td>\n",
       "      <td>GENERACION E - GRATUIDAD</td>\n",
       "    </tr>\n",
       "    <tr>\n",
       "      <th>4</th>\n",
       "      <td>TI</td>\n",
       "      <td>COLOMBIA</td>\n",
       "      <td>M</td>\n",
       "      <td>02/05/2002 12:00:00 AM</td>\n",
       "      <td>20194</td>\n",
       "      <td>SB11201940280831</td>\n",
       "      <td>ESTUDIANTE</td>\n",
       "      <td>No</td>\n",
       "      <td>COLOMBIA</td>\n",
       "      <td>-</td>\n",
       "      <td>...</td>\n",
       "      <td>52.0</td>\n",
       "      <td>63</td>\n",
       "      <td>A1</td>\n",
       "      <td>288</td>\n",
       "      <td>78</td>\n",
       "      <td>52.9109464277177</td>\n",
       "      <td>3.0</td>\n",
       "      <td>3.0</td>\n",
       "      <td>PUBLICAR</td>\n",
       "      <td>NO</td>\n",
       "    </tr>\n",
       "  </tbody>\n",
       "</table>\n",
       "<p>5 rows × 82 columns</p>\n",
       "</div>"
      ],
      "text/plain": [
       "  ESTU_TIPODOCUMENTO ESTU_NACIONALIDAD ESTU_GENERO    ESTU_FECHANACIMIENTO  \\\n",
       "0                 TI          COLOMBIA           M  02/18/2002 12:00:00 AM   \n",
       "1                 TI          COLOMBIA           M  06/28/2003 12:00:00 AM   \n",
       "2                 TI          COLOMBIA           M  06/02/2001 12:00:00 AM   \n",
       "3                 TI          COLOMBIA           M  04/26/2002 12:00:00 AM   \n",
       "4                 TI          COLOMBIA           M  02/05/2002 12:00:00 AM   \n",
       "\n",
       "   PERIODO  ESTU_CONSECUTIVO ESTU_ESTUDIANTE ESTU_TIENEETNIA ESTU_PAIS_RESIDE  \\\n",
       "0    20194  SB11201940031558      ESTUDIANTE              No         COLOMBIA   \n",
       "1    20194  SB11201940303339      ESTUDIANTE              No         COLOMBIA   \n",
       "2    20194  SB11201940255017      ESTUDIANTE              No         COLOMBIA   \n",
       "3    20194  SB11201940154799      ESTUDIANTE              Si         COLOMBIA   \n",
       "4    20194  SB11201940280831      ESTUDIANTE              No         COLOMBIA   \n",
       "\n",
       "  ESTU_ETNIA  ... PUNT_INGLES PERCENTIL_INGLES DESEMP_INGLES PUNT_GLOBAL  \\\n",
       "0          -  ...        54.0               67            A1         208   \n",
       "1          -  ...        63.0               88            A2         299   \n",
       "2          -  ...        64.0               89            A2         299   \n",
       "3    Ninguno  ...        53.0               67            A1         309   \n",
       "4          -  ...        52.0               63            A1         288   \n",
       "\n",
       "  PERCENTIL_GLOBAL ESTU_INSE_INDIVIDUAL ESTU_NSE_INDIVIDUAL  \\\n",
       "0               25     50.9421557404314                 2.0   \n",
       "1               83      59.767864431576                 3.0   \n",
       "2               84     50.7642383644749                 2.0   \n",
       "3               88     45.7791353123516                 2.0   \n",
       "4               78     52.9109464277177                 3.0   \n",
       "\n",
       "  ESTU_NSE_ESTABLECIMIENTO ESTU_ESTADOINVESTIGACION         ESTU_GENERACION-E  \n",
       "0                      2.0                 PUBLICAR                        NO  \n",
       "1                      4.0                 PUBLICAR                        NO  \n",
       "2                      3.0                 PUBLICAR  GENERACION E - GRATUIDAD  \n",
       "3                      3.0                 PUBLICAR  GENERACION E - GRATUIDAD  \n",
       "4                      3.0                 PUBLICAR                        NO  \n",
       "\n",
       "[5 rows x 82 columns]"
      ]
     },
     "execution_count": 6,
     "metadata": {},
     "output_type": "execute_result"
    }
   ],
   "source": [
    "df = pd.read_csv('Saber_11__2019-2.csv')\n",
    "df.head()"
   ]
  },
  {
   "cell_type": "code",
   "execution_count": 7,
   "id": "6f3fea2c",
   "metadata": {},
   "outputs": [
    {
     "name": "stdout",
     "output_type": "stream",
     "text": [
      "there are 82 columns\n"
     ]
    },
    {
     "data": {
      "text/plain": [
       "Index(['ESTU_TIPODOCUMENTO', 'ESTU_NACIONALIDAD', 'ESTU_GENERO',\n",
       "       'ESTU_FECHANACIMIENTO', 'PERIODO', 'ESTU_CONSECUTIVO',\n",
       "       'ESTU_ESTUDIANTE', 'ESTU_TIENEETNIA', 'ESTU_PAIS_RESIDE', 'ESTU_ETNIA',\n",
       "       'ESTU_DEPTO_RESIDE', 'ESTU_COD_RESIDE_DEPTO', 'ESTU_MCPIO_RESIDE',\n",
       "       'ESTU_COD_RESIDE_MCPIO', 'FAMI_ESTRATOVIVIENDA', 'FAMI_PERSONASHOGAR',\n",
       "       'FAMI_CUARTOSHOGAR', 'FAMI_EDUCACIONPADRE', 'FAMI_EDUCACIONMADRE',\n",
       "       'FAMI_TRABAJOLABORPADRE', 'FAMI_TRABAJOLABORMADRE',\n",
       "       'FAMI_TIENEINTERNET', 'FAMI_TIENESERVICIOTV', 'FAMI_TIENECOMPUTADOR',\n",
       "       'FAMI_TIENELAVADORA', 'FAMI_TIENEHORNOMICROOGAS', 'FAMI_TIENEAUTOMOVIL',\n",
       "       'FAMI_TIENEMOTOCICLETA', 'FAMI_TIENECONSOLAVIDEOJUEGOS',\n",
       "       'FAMI_NUMLIBROS', 'FAMI_COMELECHEDERIVADOS',\n",
       "       'FAMI_COMECARNEPESCADOHUEVO', 'FAMI_COMECEREALFRUTOSLEGUMBRE',\n",
       "       'FAMI_SITUACIONECONOMICA', 'ESTU_DEDICACIONLECTURADIARIA',\n",
       "       'ESTU_DEDICACIONINTERNET', 'ESTU_HORASSEMANATRABAJA',\n",
       "       'ESTU_TIPOREMUNERACION', 'COLE_CODIGO_ICFES',\n",
       "       'COLE_COD_DANE_ESTABLECIMIENTO', 'COLE_NOMBRE_ESTABLECIMIENTO',\n",
       "       'COLE_GENERO', 'COLE_NATURALEZA', 'COLE_CALENDARIO', 'COLE_BILINGUE',\n",
       "       'COLE_CARACTER', 'COLE_COD_DANE_SEDE', 'COLE_NOMBRE_SEDE',\n",
       "       'COLE_SEDE_PRINCIPAL', 'COLE_AREA_UBICACION', 'COLE_JORNADA',\n",
       "       'COLE_COD_MCPIO_UBICACION', 'COLE_MCPIO_UBICACION',\n",
       "       'COLE_COD_DEPTO_UBICACION', 'COLE_DEPTO_UBICACION',\n",
       "       'ESTU_PRIVADO_LIBERTAD', 'ESTU_COD_MCPIO_PRESENTACION',\n",
       "       'ESTU_MCPIO_PRESENTACION', 'ESTU_DEPTO_PRESENTACION',\n",
       "       'ESTU_COD_DEPTO_PRESENTACION', 'PUNT_LECTURA_CRITICA',\n",
       "       'PERCENTIL_LECTURA_CRITICA', 'DESEMP_LECTURA_CRITICA',\n",
       "       'PUNT_MATEMATICAS', 'PERCENTIL_MATEMATICAS', 'DESEMP_MATEMATICAS',\n",
       "       'PUNT_C_NATURALES', 'PERCENTIL_C_NATURALES', 'DESEMP_C_NATURALES',\n",
       "       'PUNT_SOCIALES_CIUDADANAS', 'PERCENTIL_SOCIALES_CIUDADANAS',\n",
       "       'DESEMP_SOCIALES_CIUDADANAS', 'PUNT_INGLES', 'PERCENTIL_INGLES',\n",
       "       'DESEMP_INGLES', 'PUNT_GLOBAL', 'PERCENTIL_GLOBAL',\n",
       "       'ESTU_INSE_INDIVIDUAL', 'ESTU_NSE_INDIVIDUAL',\n",
       "       'ESTU_NSE_ESTABLECIMIENTO', 'ESTU_ESTADOINVESTIGACION',\n",
       "       'ESTU_GENERACION-E'],\n",
       "      dtype='object')"
      ]
     },
     "execution_count": 7,
     "metadata": {},
     "output_type": "execute_result"
    }
   ],
   "source": [
    "print(f\"there are {df.columns.shape[0]} columns\")\n",
    "df.columns"
   ]
  },
  {
   "attachments": {},
   "cell_type": "markdown",
   "id": "e8c5dcb1",
   "metadata": {},
   "source": [
    "\n",
    "* 'ESTU_TIPODOCUMENTO'\n",
    "* 'ESTU_NACIONALIDAD'\n",
    "* 'ESTU_GENERO'\n",
    "* 'ESTU_FECHANACIMIENTO'\n",
    "* 'PERIODO'\n",
    "* 'ESTU_CONSECUTIVO'\n",
    "* 'ESTU_ESTUDIANTE'\n",
    "* 'ESTU_TIENEETNIA'\n",
    "* 'ESTU_PAIS_RESIDE'\n",
    "* 'ESTU_ETNIA'\n",
    "* 'ESTU_DEPTO_RESIDE'\n",
    "* 'ESTU_COD_RESIDE_DEPTO'\n",
    "* 'ESTU_MCPIO_RESIDE'\n",
    "* 'ESTU_COD_RESIDE_MCPIO'\n",
    "* 'FAMI_ESTRATOVIVIENDA'\n",
    "* 'FAMI_PERSONASHOGAR'\n",
    "* 'FAMI_CUARTOSHOGAR'\n",
    "* 'FAMI_EDUCACIONPADRE'\n",
    "* 'FAMI_EDUCACIONMADRE'\n",
    "* 'FAMI_TRABAJOLABORPADRE'\n",
    "* 'FAMI_TRABAJOLABORMADRE'\n",
    "* 'FAMI_TIENEINTERNET'\n",
    "* 'FAMI_TIENESERVICIOTV'\n",
    "* 'FAMI_TIENECOMPUTADOR'\n",
    "* 'FAMI_TIENELAVADORA'\n",
    "* 'FAMI_TIENEHORNOMICROOGAS'\n",
    "* 'FAMI_TIENEAUTOMOVIL'\n",
    "* 'FAMI_TIENEMOTOCICLETA'\n",
    "* 'FAMI_TIENECONSOLAVIDEOJUEGOS'\n",
    "* 'FAMI_NUMLIBROS'\n",
    "* 'FAMI_COMELECHEDERIVADOS'\n",
    "* 'FAMI_COMECARNEPESCADOHUEVO'\n",
    "* 'FAMI_COMECEREALFRUTOSLEGUMBRE'\n",
    "* 'FAMI_SITUACIONECONOMICA'\n",
    "* 'ESTU_DEDICACIONLECTURADIARIA'\n",
    "* 'ESTU_DEDICACIONINTERNET'\n",
    "* 'ESTU_HORASSEMANATRABAJA'\n",
    "* 'ESTU_TIPOREMUNERACION'\n",
    "* 'COLE_CODIGO_ICFES'\n",
    "* 'COLE_COD_DANE_ESTABLECIMIENTO'\n",
    "* 'COLE_NOMBRE_ESTABLECIMIENTO'\n",
    "* 'COLE_GENERO'\n",
    "* 'COLE_NATURALEZA'\n",
    "* 'COLE_CALENDARIO'\n",
    "* 'COLE_BILINGUE'\n",
    "* 'COLE_CARACTER'\n",
    "* 'COLE_COD_DANE_SEDE'\n",
    "* 'COLE_NOMBRE_SEDE'\n",
    "* 'COLE_SEDE_PRINCIPAL'\n",
    "* 'COLE_AREA_UBICACION'\n",
    "* 'COLE_JORNADA' \n",
    "* 'COLE_COD_MCPIO_UBICACION'\n",
    "* 'COLE_MCPIO_UBICACION'\n",
    "* 'COLE_COD_DEPTO_UBICACION'\n",
    "* 'COLE_DEPTO_UBICACION'\n",
    "* 'ESTU_PRIVADO_LIBERTAD'\n",
    "* 'ESTU_COD_MCPIO_PRESENTACION'\n",
    "* 'ESTU_MCPIO_PRESENTACION'\n",
    "* 'ESTU_DEPTO_PRESENTACION'\n",
    "* 'ESTU_COD_DEPTO_PRESENTACION'\n",
    "* 'PUNT_LECTURA_CRITICA'\n",
    "* 'PERCENTIL_LECTURA_CRITICA'\n",
    "* 'DESEMP_LECTURA_CRITICA'\n",
    "* 'PUNT_MATEMATICAS'\n",
    "* 'PERCENTIL_MATEMATICAS'\n",
    "* 'DESEMP_MATEMATICAS'\n",
    "* 'PUNT_C_NATURALES'\n",
    "* 'PERCENTIL_C_NATURALES'\n",
    "* 'DESEMP_C_NATURALES'\n",
    "* 'PUNT_SOCIALES_CIUDADANAS'\n",
    "* 'PERCENTIL_SOCIALES_CIUDADANAS'\n",
    "* 'DESEMP_SOCIALES_CIUDADANAS'\n",
    "* 'PUNT_INGLES'\n",
    "* 'PERCENTIL_INGLES'\n",
    "* 'DESEMP_INGLES'\n",
    "* 'PUNT_GLOBAL'\n",
    "* 'PERCENTIL_GLOBAL'\n",
    "* 'ESTU_INSE_INDIVIDUAL'\n",
    "* 'ESTU_NSE_INDIVIDUAL'\n",
    "* 'ESTU_NSE_ESTABLECIMIENTO'\n",
    "* 'ESTU_ESTADOINVESTIGACION'\n",
    "* 'ESTU_GENERACION-E'  "
   ]
  },
  {
   "cell_type": "code",
   "execution_count": 8,
   "id": "4a62385a",
   "metadata": {},
   "outputs": [
    {
     "data": {
      "text/plain": [
       "0         N\n",
       "1         N\n",
       "2         N\n",
       "3         N\n",
       "4         N\n",
       "         ..\n",
       "546207    N\n",
       "546208    N\n",
       "546209    N\n",
       "546210    N\n",
       "546211    N\n",
       "Name: ESTU_PRIVADO_LIBERTAD, Length: 546212, dtype: object"
      ]
     },
     "execution_count": 8,
     "metadata": {},
     "output_type": "execute_result"
    }
   ],
   "source": [
    "df[\"ESTU_PRIVADO_LIBERTAD\"]"
   ]
  },
  {
   "cell_type": "code",
   "execution_count": 9,
   "id": "26943584",
   "metadata": {},
   "outputs": [
    {
     "name": "stdout",
     "output_type": "stream",
     "text": [
      "There are 126 privados de la libertad.\n"
     ]
    }
   ],
   "source": [
    "privados_de_la_libertad = df[df[\"ESTU_PRIVADO_LIBERTAD\"]==\"S\"]\n",
    "print(f\"There are {privados_de_la_libertad.shape[0]} privados de la libertad.\")\n",
    "# sns.barplot(x=\"PUNT_INGLES\", y=\"ESTU_NACIONALIDAD\", data=privados_de_la_libertad)"
   ]
  },
  {
   "cell_type": "code",
   "execution_count": 10,
   "id": "777a1152",
   "metadata": {},
   "outputs": [
    {
     "name": "stdout",
     "output_type": "stream",
     "text": [
      "{'-', nan}\n",
      "{nan, '-'}\n"
     ]
    }
   ],
   "source": [
    "print(set(privados_de_la_libertad[\"FAMI_TRABAJOLABORMADRE\"].tolist()))\n",
    "print(set(privados_de_la_libertad[\"FAMI_TRABAJOLABORPADRE\"].tolist()))"
   ]
  },
  {
   "cell_type": "code",
   "execution_count": 11,
   "id": "36381dee",
   "metadata": {},
   "outputs": [
    {
     "data": {
      "text/plain": [
       "0               3 a 5 veces por semana\n",
       "1               3 a 5 veces por semana\n",
       "2          Todos o casi todos los días\n",
       "3          Todos o casi todos los días\n",
       "4         Nunca o rara vez comemos eso\n",
       "                      ...             \n",
       "546207     Todos o casi todos los días\n",
       "546208          3 a 5 veces por semana\n",
       "546209     Todos o casi todos los días\n",
       "546210     Todos o casi todos los días\n",
       "546211     Todos o casi todos los días\n",
       "Name: FAMI_COMECARNEPESCADOHUEVO, Length: 546212, dtype: object"
      ]
     },
     "execution_count": 11,
     "metadata": {},
     "output_type": "execute_result"
    }
   ],
   "source": [
    "df[\"FAMI_COMECARNEPESCADOHUEVO\"]"
   ]
  },
  {
   "cell_type": "code",
   "execution_count": 29,
   "id": "07267333",
   "metadata": {},
   "outputs": [
    {
     "data": {
      "text/plain": [
       "9500"
      ]
     },
     "execution_count": 29,
     "metadata": {},
     "output_type": "execute_result"
    }
   ],
   "source": [
    "are_vegans = (df[\"FAMI_COMECARNEPESCADOHUEVO\"]==\"Nunca o rara vez comemos eso\") & (df[\"FAMI_COMELECHEDERIVADOS\"]==\"Nunca o rara vez comemos eso\") & (df[\"FAMI_COMECEREALFRUTOSLEGUMBRE\"]==\"Todos o casi todos los días\")\n",
    "vegans = df[ are_vegans]\n",
    "non_vegans = df[~df.isin(vegans)].dropna()\n",
    "vegans.shape[0]"
   ]
  },
  {
   "cell_type": "code",
   "execution_count": 30,
   "id": "597d818c",
   "metadata": {},
   "outputs": [
    {
     "data": {
      "image/png": "[encoded data removed]",
      "text/plain": [
       "<Figure size 640x480 with 1 Axes>"
      ]
     },
     "metadata": {},
     "output_type": "display_data"
    }
   ],
   "source": [
    "# Extract the PUNT_MATEMATICAS column from each dataframe\n",
    "vegans_math = vegans['PERCENTIL_INGLES']\n",
    "non_vegans_math = non_vegans['PERCENTIL_INGLES']\n",
    "# Determine the size of the smaller dataframe\n",
    "smaller_size = min(vegans_math.size, non_vegans_math.size)\n",
    "\n",
    "# Randomly sample the larger dataframe to have the same size as the smaller dataframe\n",
    "if vegans_math.size == smaller_size:\n",
    "    non_vegans_math = non_vegans_math.sample(n=smaller_size, random_state=1)\n",
    "else:\n",
    "    vegans_math = vegans_math.sample(n=smaller_size, random_state=1)\n",
    "# Concatenate the two columns into a single dataframe\n",
    "df_concat = pd.concat([vegans_math, non_vegans_math], ignore_index=True, axis=1)\n",
    "df_concat.columns = ['Vegans', 'Non Vegans']\n",
    "\n",
    "# Reshape the dataframe into a long format\n",
    "df_melted = pd.melt(df_concat, var_name='Dataframe', value_name='PUNT_MATEMATICAS')\n",
    "\n",
    "# Plot the data using Seaborn\n",
    "sns.set(style='darkgrid')\n",
    "sns.histplot(data=df_melted, x='PUNT_MATEMATICAS', hue='Dataframe')\n",
    "\n",
    "# Add a title and axis labels\n",
    "plt.title('Comparison of Percentil Ingles')\n",
    "plt.xlabel('Percentil Ingles')\n",
    "plt.ylabel('Count')\n",
    "\n",
    "# Show the plot\n",
    "plt.show()"
   ]
  },
  {
   "cell_type": "code",
   "execution_count": null,
   "id": "05e31091",
   "metadata": {},
   "outputs": [],
   "source": []
  },
  {
   "cell_type": "code",
   "execution_count": 31,
   "id": "6b7f35ee",
   "metadata": {},
   "outputs": [
    {
     "data": {
      "image/png": "[encoded data removed]",
      "text/plain": [
       "<Figure size 640x480 with 1 Axes>"
      ]
     },
     "metadata": {},
     "output_type": "display_data"
    }
   ],
   "source": [
    "# Extract the PUNT_MATEMATICAS column from each dataframe\n",
    "vegans_math = vegans['PERCENTIL_MATEMATICAS']\n",
    "non_vegans_math = non_vegans['PERCENTIL_MATEMATICAS']\n",
    "# Determine the size of the smaller dataframe\n",
    "smaller_size = min(vegans_math.size, non_vegans_math.size)\n",
    "\n",
    "# Randomly sample the larger dataframe to have the same size as the smaller dataframe\n",
    "if vegans_math.size == smaller_size:\n",
    "    non_vegans_math = non_vegans_math.sample(n=smaller_size, random_state=1)\n",
    "else:\n",
    "    vegans_math = vegans_math.sample(n=smaller_size, random_state=1)\n",
    "# Concatenate the two columns into a single dataframe\n",
    "df_concat = pd.concat([vegans_math, non_vegans_math], ignore_index=True, axis=1)\n",
    "df_concat.columns = ['Vegans', 'Non Vegans']\n",
    "\n",
    "# Reshape the dataframe into a long format\n",
    "df_melted = pd.melt(df_concat, var_name='Dataframe', value_name='PUNT_MATEMATICAS')\n",
    "\n",
    "# Plot the data using Seaborn\n",
    "sns.set(style='darkgrid')\n",
    "sns.histplot(data=df_melted, x='PUNT_MATEMATICAS', hue='Dataframe')\n",
    "\n",
    "# Add a title and axis labels\n",
    "plt.title('Comparison of Percentil Matematicas')\n",
    "plt.xlabel('Percentil MATEMATICAS')\n",
    "plt.ylabel('Count')\n",
    "\n",
    "# Show the plot\n",
    "plt.show()"
   ]
  },
  {
   "cell_type": "code",
   "execution_count": null,
   "id": "caf11d17",
   "metadata": {},
   "outputs": [],
   "source": []
  }
 ],
 "metadata": {
  "kernelspec": {
   "display_name": ".venv",
   "language": "python",
   "name": "python3"
  },
  "language_info": {
   "codemirror_mode": {
    "name": "ipython",
    "version": 3
   },
   "file_extension": ".py",
   "mimetype": "text/x-python",
   "name": "python",
   "nbconvert_exporter": "python",
   "pygments_lexer": "ipython3",
   "version": "3.10.6"
  },
  "vscode": {
   "interpreter": {
    "hash": "db513f4b51b72ffb2d078d73097e814bfe7945045c9f5c442d21a209a4d7a3a2"
   }
  }
 },
 "nbformat": 4,
 "nbformat_minor": 5
}
